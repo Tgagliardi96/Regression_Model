{
 "cells": [
  {
   "cell_type": "code",
   "execution_count": null,
   "id": "7b7bce74",
   "metadata": {},
   "outputs": [],
   "source": [
    "cd ~ "
   ]
  },
  {
   "cell_type": "code",
   "execution_count": null,
   "id": "13bed9d8",
   "metadata": {},
   "outputs": [],
   "source": [
    "cd ./Desktop/Hult documents/Machine Learning "
   ]
  },
  {
   "cell_type": "markdown",
   "id": "bf679ab8",
   "metadata": {},
   "source": [
    "Import of principal packages to conduce the analysis"
   ]
  },
  {
   "cell_type": "code",
   "execution_count": null,
   "id": "7f3a7252",
   "metadata": {},
   "outputs": [],
   "source": [
    "import os\n",
    "from os import listdir\n",
    "import pandas as pd\n",
    "import numpy as np\n",
    "import matplotlib.pyplot as plt\n",
    "import seaborn as sns\n",
    "import statsmodels.formula.api as smf"
   ]
  },
  {
   "cell_type": "code",
   "execution_count": null,
   "id": "e91fd796",
   "metadata": {},
   "outputs": [],
   "source": [
    "# Exploring folder for Excel file\n",
    "\n",
    "for datasets in listdir(path = '.'):\n",
    "    print(datasets)"
   ]
  },
  {
   "cell_type": "markdown",
   "id": "2f8d0225",
   "metadata": {},
   "source": [
    "Opening of the dataset used to build the model"
   ]
  },
  {
   "cell_type": "code",
   "execution_count": null,
   "id": "1529bc80",
   "metadata": {},
   "outputs": [],
   "source": [
    "# Import of file \n",
    "\n",
    "dataframe = './birthweight_low.xlsx'\n",
    "\n",
    "# Read file and looking for every type of missing values\n",
    "\n",
    "real = pd.read_excel(io = dataframe,\n",
    "                     sheet_name = 0,\n",
    "                     header = 0,\n",
    "                     na_values = ['', '#N/A', '#N/A N/A', '#NA', '-1.#IND', \n",
    "                    '-1.#QNAN', '-NaN', '-nan','1.#IND', '1.#QNAN', '<NA>', \n",
    "                    'N/A', 'NA', 'NULL', 'NaN', 'n/a','nan', 'null','?'])\n",
    "real.head(n = 5)"
   ]
  },
  {
   "cell_type": "code",
   "execution_count": null,
   "id": "300c2bb6",
   "metadata": {},
   "outputs": [],
   "source": [
    "# characteristics of variables in dataset\n",
    "real.info()"
   ]
  },
  {
   "cell_type": "markdown",
   "id": "e4f908af",
   "metadata": {},
   "source": [
    "Conversion of variables in integers to be treated properly in the analysis"
   ]
  },
  {
   "cell_type": "code",
   "execution_count": null,
   "id": "0e3bbfa5",
   "metadata": {},
   "outputs": [],
   "source": [
    "# Change of variables that are not consistent with previous type (float)\n",
    "\n",
    "data_types = {'medu' : int,\n",
    "              'npvis': int,\n",
    "              'feduc' : int}"
   ]
  },
  {
   "cell_type": "markdown",
   "id": "ca9dc5fd",
   "metadata": {},
   "source": [
    "Dependent variable shown in a histogram to verify its distribution"
   ]
  },
  {
   "cell_type": "code",
   "execution_count": null,
   "id": "95675f9a",
   "metadata": {},
   "outputs": [],
   "source": [
    "# Creation of histogram to visualize distribution\n",
    "sns.histplot(data = real,\n",
    "             x = 'bwght',\n",
    "             kde = True)\n",
    "\n",
    "plt.title(label = 'Distribution of target variable')\n",
    "plt.xlabel(xlabel = 'Birthweight')\n",
    "plt.ylabel(ylabel = 'Count')\n",
    "plt.show()"
   ]
  },
  {
   "cell_type": "code",
   "execution_count": null,
   "id": "7ab06eba",
   "metadata": {},
   "outputs": [],
   "source": [
    "# Visualization of logarithm of target variable\n",
    "# Histogram to visualize\n",
    "real['log_bwght'] = np.log(real['bwght'])\n",
    "\n",
    "sns.histplot(data = real,\n",
    "             x = 'log_bwght',\n",
    "             kde = True)\n",
    "\n",
    "plt.title(label = 'Distribution of log birthweight')\n",
    "plt.xlabel(xlabel = 'log birthweight')\n",
    "plt.ylabel(ylabel = 'Count')\n",
    "plt.show()"
   ]
  },
  {
   "cell_type": "code",
   "execution_count": null,
   "id": "07e23869",
   "metadata": {},
   "outputs": [],
   "source": [
    "# Assumption on y: variable continuous. Function describe to check how many other are continuous\n",
    "\n",
    "real.describe(include = 'number').round(decimals = 2)"
   ]
  },
  {
   "cell_type": "markdown",
   "id": "f7c12e37",
   "metadata": {},
   "source": [
    "Correlations in the dataset between all the continuous variables"
   ]
  },
  {
   "cell_type": "code",
   "execution_count": null,
   "id": "ba603411",
   "metadata": {},
   "outputs": [],
   "source": [
    "numerical_data = ['mage', 'meduc', 'monpre', 'npvis', 'fage', 'feduc', 'omaps', 'fmaps', 'cigs', 'drink', 'bwght']\n",
    "\n",
    "real_corr = real[numerical_data].corr(method = 'pearson')\n",
    "print(real_corr)"
   ]
  },
  {
   "cell_type": "markdown",
   "id": "2ee6cdb7",
   "metadata": {},
   "source": [
    "Correlations between continuous variables and dependent variable"
   ]
  },
  {
   "cell_type": "code",
   "execution_count": null,
   "id": "206c0146",
   "metadata": {},
   "outputs": [],
   "source": [
    "real_corr.loc[ : , 'bwght'].round(decimals = 2).sort_values(ascending = True)"
   ]
  },
  {
   "cell_type": "markdown",
   "id": "9ed57d46",
   "metadata": {},
   "source": [
    "Correlation between categorical variables and dependent variable"
   ]
  },
  {
   "cell_type": "code",
   "execution_count": null,
   "id": "e08ed8d4",
   "metadata": {},
   "outputs": [],
   "source": [
    "# List of categorical variables\n",
    "categorical_data = ['male', 'mwhte', 'mblck', 'moth', 'fwhte', 'fblck', 'foth', 'bwght']\n",
    "\n",
    "real_corr_2 = real[categorical_data].corr(method = 'pearson')"
   ]
  },
  {
   "cell_type": "code",
   "execution_count": null,
   "id": "f2f051ac",
   "metadata": {},
   "outputs": [],
   "source": [
    "real_corr_2.loc[ : , 'bwght'].round(decimals = 2).sort_values(ascending = True) # Result of correlation"
   ]
  },
  {
   "cell_type": "markdown",
   "id": "4a064272",
   "metadata": {},
   "source": [
    "Histogram shown for all the independent variables"
   ]
  },
  {
   "cell_type": "code",
   "execution_count": null,
   "id": "e2328a97",
   "metadata": {
    "scrolled": false
   },
   "outputs": [],
   "source": [
    "# Histogram for age of mother\n",
    "sns.histplot(data = real,\n",
    "             x = 'mage',\n",
    "             kde = True)\n",
    "plt.title(label = 'Distribution Age mother')\n",
    "plt.xlabel(xlabel = 'Age mother')\n",
    "plt.ylabel(ylabel = 'Count')\n",
    "plt.show() \n",
    "\n",
    "# Histogram for age of father\n",
    "sns.histplot(data = real,\n",
    "             x = 'fage',\n",
    "             kde = True)\n",
    "plt.title(label = 'Distribution Age father')\n",
    "plt.xlabel(xlabel = 'Age father')\n",
    "plt.ylabel(ylabel = 'Count')\n",
    "plt.show()\n",
    "\n",
    "# Histogram for Apgar test 1 minute\n",
    "sns.histplot(data = real,\n",
    "             x = 'omaps',\n",
    "             kde = True)\n",
    "plt.title(label = 'Distribution Apgar score 1 minute')\n",
    "plt.xlabel(xlabel = 'Apgar score 1 minute')\n",
    "plt.ylabel(ylabel = 'Count')\n",
    "plt.show()\n",
    "\n",
    "# Histogram for Apgar test 5 minutes\n",
    "sns.histplot(data = real,\n",
    "             x = 'fmaps',\n",
    "             kde = True)\n",
    "plt.title(label = 'Distribution Apgar score 5 minutes')\n",
    "plt.xlabel(xlabel = 'Apgar score 5 minutes')\n",
    "plt.ylabel(ylabel = 'Count')\n",
    "plt.show()\n",
    "\n",
    "# Histogram for cigarettes\n",
    "sns.histplot(data = real,\n",
    "             x = 'cigs',\n",
    "             kde = True)\n",
    "plt.title(label = 'Distribution daily cigarettes')\n",
    "plt.xlabel(xlabel = 'Daily cigarettes')\n",
    "plt.ylabel(ylabel = 'Count')\n",
    "plt.show()\n",
    "\n",
    "#Histogram for drink\n",
    "sns.histplot(data = real,\n",
    "             x = 'drink',\n",
    "             kde = True)\n",
    "plt.title(label = 'Distribution Weekly drinks')\n",
    "plt.xlabel(xlabel = 'Weekly drinks')\n",
    "plt.ylabel(ylabel = 'Count')\n",
    "plt.show()"
   ]
  },
  {
   "cell_type": "code",
   "execution_count": null,
   "id": "fab92153",
   "metadata": {},
   "outputs": [],
   "source": [
    "# Logarithmic variables for relevant X \n",
    "# Choice on base of coefficients of correlation\n",
    "real['log_mage'] = np.log(real['mage'])\n",
    "real['log_fage'] = np.log(real['fage'])\n",
    "real['log_omaps'] = np.log(real['omaps'])\n",
    "real['log_fmaps'] = np.log(real['fmaps'])"
   ]
  },
  {
   "cell_type": "markdown",
   "id": "090fc3b0",
   "metadata": {},
   "source": [
    "Histograms shown for logarithmic variables selected"
   ]
  },
  {
   "cell_type": "code",
   "execution_count": null,
   "id": "5cc5eaf3",
   "metadata": {},
   "outputs": [],
   "source": [
    "# Histogram for logarithmic age mother\n",
    "sns.histplot(data = real,\n",
    "             x = 'log_mage',\n",
    "             kde = True)\n",
    "plt.title(label = 'Logarithmic distribution age mother')\n",
    "plt.xlabel(xlabel = 'Log age mother')\n",
    "plt.ylabel(ylabel = 'Count')\n",
    "plt.show()\n",
    "\n",
    "# Histogram for logarithmic age father\n",
    "sns.histplot(data = real,\n",
    "             x = 'log_fage',\n",
    "             kde = True)\n",
    "plt.title(label = 'Logarithmic distribution age father')\n",
    "plt.xlabel(xlabel = 'Log age father')\n",
    "plt.ylabel(ylabel = 'Count')\n",
    "plt.show()\n",
    "\n",
    "# Histogram for logarithmic Apgar Test 1 minute\n",
    "sns.histplot(data = real,\n",
    "             x = 'log_omaps',\n",
    "             kde = True)\n",
    "plt.title(label = 'Logarithmic distribution Apgar 1')\n",
    "plt.xlabel(xlabel = 'Log Apgar 5')\n",
    "plt.ylabel(ylabel = 'Count')\n",
    "plt.show()\n",
    "\n",
    "# Histogram for logarithmic Apgar Test 5 minutes\n",
    "sns.histplot(data = real,\n",
    "             x = 'log_fmaps',\n",
    "             kde = True)\n",
    "plt.title(label = 'Logarithmic distribution Apgar 5')\n",
    "plt.xlabel(xlabel = 'Log Apgar 5')\n",
    "plt.ylabel(ylabel = 'Count')\n",
    "plt.show()"
   ]
  },
  {
   "cell_type": "code",
   "execution_count": null,
   "id": "7481c5f3",
   "metadata": {},
   "outputs": [],
   "source": [
    "# List of logarithmic variables to explore their correlation with target\n",
    "logarithmic_data = ['log_mage', 'log_fage', 'log_omaps', 'log_fmaps', 'bwght']\n",
    "\n",
    "real_3 = real[logarithmic_data].corr(method = 'pearson')\n",
    "\n",
    "real_3.loc[ : , 'bwght'].round(decimals = 2).sort_values(ascending = True)"
   ]
  },
  {
   "cell_type": "markdown",
   "id": "675f117e",
   "metadata": {},
   "source": [
    "Matrix to verify OLS correlation for the entire set of variables present in the dataset"
   ]
  },
  {
   "cell_type": "code",
   "execution_count": null,
   "id": "9e06ad29",
   "metadata": {},
   "outputs": [],
   "source": [
    "real_ols = smf.ols(formula = \"\"\"bwght ~ mage + \n",
    "                                        meduc +                                                                          \n",
    "                                        fage +\n",
    "                                        monpre +\n",
    "                                        npvis +\n",
    "                                        feduc +\n",
    "                                        omaps +\n",
    "                                        fmaps +                                    \n",
    "                                        cigs +\n",
    "                                        drink +\n",
    "                                        male +\n",
    "                                        mwhte +\n",
    "                                        mblck +\n",
    "                                        moth +\n",
    "                                        fwhte +\n",
    "                                        fblck +\n",
    "                                        foth +\n",
    "                                        log_mage +\n",
    "                                        log_fage +\n",
    "                                        log_omaps +\n",
    "                                        log_fmaps                                        \n",
    "                                        \"\"\",\n",
    "                                        data = real)\n",
    "outcome = real_ols.fit()\n",
    "print(outcome.summary())"
   ]
  },
  {
   "cell_type": "code",
   "execution_count": null,
   "id": "f2157915",
   "metadata": {},
   "outputs": [],
   "source": [
    "real.isnull().sum() # Sum of missing values in entire dataset"
   ]
  },
  {
   "cell_type": "code",
   "execution_count": null,
   "id": "e3b39cc3",
   "metadata": {},
   "outputs": [],
   "source": [
    "# Code for missing values columns\n",
    "for col in real:\n",
    "    if real[col].isnull().astype(int).sum() > 0:\n",
    "        real['m_'+col] = real[col].isnull().astype(int)\n",
    "        \n",
    "real[ ['m_meduc', 'm_npvis', 'm_feduc'] ].sum(axis = 0)"
   ]
  },
  {
   "cell_type": "markdown",
   "id": "da532587",
   "metadata": {},
   "source": [
    "Filling missing values after having detected what variables have them"
   ]
  },
  {
   "cell_type": "code",
   "execution_count": null,
   "id": "b64829b8",
   "metadata": {},
   "outputs": [],
   "source": [
    "# Due to low number of cases and small standard devation for every variable, they will be filled the mean\n",
    "\n",
    "fill = real['meduc'].mean()\n",
    "fill = real['npvis'].mean()\n",
    "fill = real['feduc'].mean()\n",
    "\n",
    "real['meduc'].fillna(fill,\n",
    "                           inplace = True) # Add of inplace to fill dataset named real\n",
    "real['npvis'].fillna(fill,\n",
    "                      inplace = True)\n",
    "real['feduc'].fillna(fill,\n",
    "                           inplace = True)"
   ]
  },
  {
   "cell_type": "code",
   "execution_count": null,
   "id": "4c6d089c",
   "metadata": {},
   "outputs": [],
   "source": [
    "real.isnull().any() # Check of missing values still present "
   ]
  },
  {
   "cell_type": "markdown",
   "id": "7eff7cc3",
   "metadata": {},
   "source": [
    "Scatterplots created to identify correlations between independent and dependent variables"
   ]
  },
  {
   "cell_type": "code",
   "execution_count": null,
   "id": "0514185c",
   "metadata": {},
   "outputs": [],
   "source": [
    "# Creation of scatterplots\n",
    "# Correlation between most relevant continuous variables and target\n",
    "fig, ax = plt.subplots(figsize = (10, 8))\n",
    "\n",
    "plt.subplot(2, 2, 1)\n",
    "sns.regplot(x = real['mage'],\n",
    "            y = real['bwght']) # Use of regplot to have trendline\n",
    "\n",
    "plt.subplot(2, 2, 2)\n",
    "sns.regplot(x = real['fage'],\n",
    "            y = real['bwght'])\n",
    "\n",
    "plt.subplot(2, 2, 3)\n",
    "sns.boxplot(x = real['omaps'],\n",
    "            y = real['bwght']) # Use of boxplot for numerical discrete values\n",
    "\n",
    "plt.subplot(2, 2, 4)\n",
    "sns.boxplot(x = real['fmaps'],\n",
    "            y = real['bwght'])\n",
    "\n",
    "fig, ax = plt.subplots(figsize = (10, 12)) # Space for other scatterplots\n",
    "\n",
    "plt.subplot(3, 2, 1)\n",
    "sns.regplot(x = real['cigs'],\n",
    "            y = real['bwght'])\n",
    "\n",
    "plt.subplot(3, 2, 2)\n",
    "sns.regplot(x = real['drink'],\n",
    "            y = real['bwght'])"
   ]
  },
  {
   "cell_type": "markdown",
   "id": "b3fee002",
   "metadata": {},
   "source": [
    "Creation of boxplots to explore the correlation between categorical variables and dependent variable"
   ]
  },
  {
   "cell_type": "code",
   "execution_count": null,
   "id": "90812750",
   "metadata": {
    "code_folding": []
   },
   "outputs": [],
   "source": [
    "# Visualization of correlation with most relevant categorical values\n",
    "fig, ax = plt.subplots(figsize = (10, 8))\n",
    "\n",
    "plt.subplot(2, 2, 1)\n",
    "sns.boxplot(x = real['mwhte'],\n",
    "                y = real['bwght'],\n",
    "                color = 'g')\n",
    "\n",
    "plt.subplot(2, 2, 2)\n",
    "sns.boxplot(x = real['foth'],\n",
    "                y = real['bwght'],\n",
    "                color = 'g')\n",
    "\n",
    "plt.subplot(2, 2, 3)\n",
    "sns.boxplot(x = real['fwhte'],\n",
    "                y = real['bwght'],\n",
    "                color = 'g')\n",
    "\n",
    "\n",
    "plt.subplot(2, 2, 4)\n",
    "sns.boxplot(x = real['moth'],\n",
    "                y = real['bwght'],\n",
    "                color = 'g')\n"
   ]
  },
  {
   "cell_type": "code",
   "execution_count": null,
   "id": "46489af5",
   "metadata": {},
   "outputs": [],
   "source": [
    "real_corr = real.corr() # Preparation of correlation for heatmaps"
   ]
  },
  {
   "cell_type": "markdown",
   "id": "ba9caf77",
   "metadata": {},
   "source": [
    "# Heatmaps"
   ]
  },
  {
   "cell_type": "code",
   "execution_count": null,
   "id": "21900845",
   "metadata": {},
   "outputs": [],
   "source": [
    "# First heatmap for correlation with numerical values\n",
    "real_heat = real_corr.loc[ ['bwght', 'mage', 'monpre', 'fage', \n",
    "                         'meduc', 'npvis', 'feduc', 'omaps', 'fmaps',\n",
    "                         'cigs', 'drink', 'male'],\n",
    "                        ['bwght', 'mage', 'monpre', 'fage', \n",
    "                         'meduc', 'npvis', 'feduc', 'omaps', 'fmaps',\n",
    "                         'cigs', 'drink', 'male'] ]\n",
    "\n",
    "sns.heatmap(real_heat.corr(), vmin = -1.00, vmax = 1.00, square = True, cmap = 'RdYlGn') # Choice of red-yellow-green to \n",
    "                                                                                         # make evident positive-negative correlations"
   ]
  },
  {
   "cell_type": "code",
   "execution_count": null,
   "id": "7016efbf",
   "metadata": {},
   "outputs": [],
   "source": [
    "# Second heatmap for correlation with categorical values\n",
    "real_heat2 = real_corr.loc[ ['bwght', 'mwhte', 'mblck', 'moth',\n",
    "                             'fwhte', 'fblck', 'foth'],\n",
    "                         ['bwght', 'mwhte', 'mblck', 'moth',\n",
    "                          'fwhte', 'fblck', 'foth'] ]\n",
    "\n",
    "sns.heatmap(real_heat2.corr(), vmin = -1.00, vmax = 1.00, square = True, cmap = 'RdYlGn')"
   ]
  },
  {
   "cell_type": "markdown",
   "id": "40523340",
   "metadata": {},
   "source": [
    "# Building of final model"
   ]
  },
  {
   "cell_type": "code",
   "execution_count": null,
   "id": "55c35a51",
   "metadata": {},
   "outputs": [],
   "source": [
    "# Import of packages from sklearn to split and do linear regression\n",
    "from sklearn.model_selection import train_test_split\n",
    "from sklearn.linear_model import LinearRegression"
   ]
  },
  {
   "cell_type": "code",
   "execution_count": null,
   "id": "06b8bd06",
   "metadata": {},
   "outputs": [],
   "source": [
    "# Division of variable age mother into two categories basing on correlation in scatterplot\n",
    "for index, col in real.iterrows():\n",
    "    if real.loc[index, 'mage'] <= 45:\n",
    "        real.loc[index, 'mage'] = 'Low'\n",
    "        \n",
    "    elif real.loc[index, 'mage'] >45:\n",
    "        real.loc[index, 'mage'] = 'High'\n",
    "        \n",
    "    else:\n",
    "        real.loc[index, 'mage'] = 'Error'"
   ]
  },
  {
   "cell_type": "code",
   "execution_count": null,
   "id": "46634e78",
   "metadata": {},
   "outputs": [],
   "source": [
    "# Creation of dummies for variable age mother and union to dataset\n",
    "new_age = pd.get_dummies(real['mage'])\n",
    "real = real.join(new_age) "
   ]
  },
  {
   "cell_type": "markdown",
   "id": "b2940568",
   "metadata": {},
   "source": [
    "Feature engineering for most relevant variables in the model"
   ]
  },
  {
   "cell_type": "code",
   "execution_count": null,
   "id": "9304fd94",
   "metadata": {},
   "outputs": [],
   "source": [
    "# Addition between two most relevant variables in dataset\n",
    "real['Unhealthy'] = real['drink'] + real['cigs'] "
   ]
  },
  {
   "cell_type": "code",
   "execution_count": null,
   "id": "903b0499",
   "metadata": {},
   "outputs": [],
   "source": [
    "# Multiplication of the effect of previous variable per normalized distribution of most relevant age \n",
    "real['Father'] = real['log_fage'] * real['Unhealthy']"
   ]
  },
  {
   "cell_type": "code",
   "execution_count": null,
   "id": "432f0acc",
   "metadata": {},
   "outputs": [],
   "source": [
    "# Addition between most relevant age and normalized distribution of most relevant Test\n",
    "real['Father_2'] = real['fage'] + real['log_fmaps']"
   ]
  },
  {
   "cell_type": "markdown",
   "id": "7ef59080",
   "metadata": {},
   "source": [
    "# Final model"
   ]
  },
  {
   "cell_type": "code",
   "execution_count": null,
   "id": "04bf2ddd",
   "metadata": {},
   "outputs": [],
   "source": [
    "# Preparation of lists for split: most relevant age normalized, cigarettes, drink, variables created\n",
    "X = real[['log_fage', \n",
    "          'cigs', 'drink',\n",
    "          'Father', 'Father_2']]\n",
    "\n",
    "y = real[['bwght']]"
   ]
  },
  {
   "cell_type": "code",
   "execution_count": null,
   "id": "c27e2690",
   "metadata": {},
   "outputs": [],
   "source": [
    "# Call of function to split in training and test\n",
    "X_train, X_test, y_train, y_test = train_test_split(X, y, \n",
    "                                                    test_size=0.25, \n",
    "                                                    random_state=219)"
   ]
  },
  {
   "cell_type": "markdown",
   "id": "b800e579",
   "metadata": {},
   "source": [
    "Linear regression model"
   ]
  },
  {
   "cell_type": "code",
   "execution_count": null,
   "id": "553fe84b",
   "metadata": {},
   "outputs": [],
   "source": [
    "# Condition for OLS regression \n",
    "# Formation of linear regressor\n",
    "linear_regressor = LinearRegression()\n",
    "# Fit of regressor to train model\n",
    "linear_regressor.fit(X_train, y_train)\n",
    "# Adapt regressor for prediction on test\n",
    "linear_pred = linear_regressor.predict(X_test)\n",
    "# F string to print results of regression\n",
    "print(f\"\"\"\n",
    "OLS Train score: {linear_regressor.score(X_train, y_train).round(2)}\n",
    "\"\"\")\n",
    "print(f\"\"\"\n",
    "OLS Test score: {linear_regressor.score(X_test, y_test).round(2)}\n",
    "\"\"\")\n",
    "# Condition for calculation of gap\n",
    "train_2 = linear_regressor.score(X_train, y_train).round(2)\n",
    "test_2 = linear_regressor.score(X_test, y_test).round(2)\n",
    "\n",
    "print('OLS Gap: ', abs(train - test).round(2))"
   ]
  },
  {
   "cell_type": "code",
   "execution_count": null,
   "id": "f19e7009",
   "metadata": {},
   "outputs": [],
   "source": [
    "# Import of scaler to avoid lack of convergence in Lasso\n",
    "import sklearn.linear_model\n",
    "from sklearn.preprocessing import StandardScaler"
   ]
  },
  {
   "cell_type": "code",
   "execution_count": null,
   "id": "fc995e3d",
   "metadata": {},
   "outputs": [],
   "source": [
    "# Creation of lists for x and y to insert in Lasso\n",
    "X_1 = real[[ 'log_fage', \n",
    "             'cigs', 'drink',\n",
    "             'Father', 'Father_2']]\n",
    "\n",
    "y_1 = real[['bwght']]"
   ]
  },
  {
   "cell_type": "code",
   "execution_count": null,
   "id": "cf9f4275",
   "metadata": {},
   "outputs": [],
   "source": [
    "# Split into train and test for creation of model\n",
    "X_train_1, X_test_1, y_train_1, y_test_1 = train_test_split(X_1, y_1,\n",
    "                                                            test_size=0.25,\n",
    "                                                            random_state=219)"
   ]
  },
  {
   "cell_type": "code",
   "execution_count": null,
   "id": "1e3f91ea",
   "metadata": {},
   "outputs": [],
   "source": [
    "# Formation of scaler factor\n",
    "scaler = StandardScaler()\n",
    "scaler.fit(X_train_1)\n",
    "X_train_1 = scaler.transform(X_train_1)\n",
    "X_test_1 = scaler.transform(X_test_1)"
   ]
  },
  {
   "cell_type": "code",
   "execution_count": null,
   "id": "ac4c4f09",
   "metadata": {},
   "outputs": [],
   "source": [
    "# Import of pipeline package in case needed for Lasso\n",
    "from sklearn.pipeline import make_pipeline"
   ]
  },
  {
   "cell_type": "markdown",
   "id": "2c9f37b3",
   "metadata": {},
   "source": [
    "Lasso regression model"
   ]
  },
  {
   "cell_type": "code",
   "execution_count": null,
   "id": "729d8769",
   "metadata": {},
   "outputs": [],
   "source": [
    "# Formation of Lasso model\n",
    "# Regressor for model\n",
    "lasso_regressor = sklearn.linear_model.Lasso()\n",
    "# Fitting regressor on train\n",
    "lasso_fit = lasso_regressor.fit(X_train_1, y_train_1)\n",
    "# Adapting regressor to predict\n",
    "lasso_predictor = lasso_fit.predict(X_test_1)\n",
    "# F string to print results\n",
    "print(f\"\"\"\n",
    "Lasso Train Score: {lasso_regressor.score(X_train_1, y_train_1).round(2)}\n",
    "\"\"\")\n",
    "print(f\"\"\"\n",
    "Lasso Test Score: {lasso_regressor.score(X_test_1, y_test_1).round(2)}\n",
    "\"\"\")\n",
    "# F string and conditions to print the gap\n",
    "train = lasso_regressor.score(X_train_1, y_train_1).round(2)\n",
    "test = lasso_regressor.score(X_test_1, y_test_1).round(2)\n",
    "\n",
    "print('Lasso Gap :', abs(train - test).round(2))\n",
    "gap = abs(train - test).round(2)"
   ]
  },
  {
   "cell_type": "code",
   "execution_count": null,
   "id": "7b8bfe13",
   "metadata": {},
   "outputs": [],
   "source": [
    "# List of variables for initial Lasso correlation (complete dataset)\n",
    "real_complete = ([ 'mage', 'meduc', 'fage', 'monpre', 'npvis', 'feduc', 'omaps',\n",
    "                   'fmaps', 'cigs', 'drink', 'male', 'mwhte', 'mblck', 'moth',\n",
    "                   'fwhte', 'fblck', 'foth', 'log_mage', 'log_fage', 'log_omaps',\n",
    "                   'log_fmaps', 'Unhealthy', 'Age_tot', 'Age_not', 'Apgar_tot' ])"
   ]
  },
  {
   "cell_type": "code",
   "execution_count": null,
   "id": "6b9656e2",
   "metadata": {},
   "outputs": [],
   "source": [
    "# Condition to check relevant correlations for Lasso model \n",
    "#Reference to train model formed for regression\n",
    "lasso_corr = zip(X_1.columns, lasso_fit.coef_.round(2))\n",
    "Lasso_lst = [('intercept', lasso_fit.intercept_.round(decimals = 2))]\n",
    "\n",
    "for values in lasso_corr:\n",
    "    Lasso_lst.append(values)\n",
    "    \n",
    "for corr in Lasso_lst:\n",
    "    print(corr)"
   ]
  },
  {
   "cell_type": "markdown",
   "id": "4b2ed012",
   "metadata": {},
   "source": [
    "ARD model"
   ]
  },
  {
   "cell_type": "code",
   "execution_count": null,
   "id": "c1b12d32",
   "metadata": {},
   "outputs": [],
   "source": [
    "# Formation of ARD model\n",
    "# Regressor for ARD\n",
    "ard_model = sklearn.linear_model.ARDRegression()\n",
    "\n",
    "\n",
    "# Fitting regressor on training data\n",
    "ard_fit = ard_model.fit(X_train_1, y_train_1)\n",
    "\n",
    "\n",
    "# Adapting regressor to predict on test\n",
    "ard_pred = ard_fit.predict(X_test_1)\n",
    "\n",
    "# f strings to show results of correlation\n",
    "print('Training Score:', ard_model.score(X_train_1, y_train_1).round(2))\n",
    "print('Testing Score :',  ard_model.score(X_test_1, y_test_1).round(2))\n",
    "\n",
    "train_1 = ard_model.score(X_train_1, y_train_1).round(2)\n",
    "test_1 = ard_model.score(X_test_1, y_test_1).round(2)\n",
    "\n",
    "print('ARD Train-Test Gap :', abs(train_1 - test_1).round(2))\n",
    "gap_2 = abs(train_1 - test_1).round(4)"
   ]
  },
  {
   "cell_type": "markdown",
   "id": "824a3ac5",
   "metadata": {},
   "source": [
    "Explanation of final results"
   ]
  },
  {
   "cell_type": "code",
   "execution_count": null,
   "id": "cb873294",
   "metadata": {},
   "outputs": [],
   "source": [
    "# Dynamic string for model characteristcs\n",
    "print(f\"\"\"\n",
    "The type of regression considered for the model is Lasso.\n",
    "The model restituted {train} as result for the training, \n",
    "while {test} was the score of the test.  \n",
    "The gap between the two was equal to {gap}.\n",
    "      \n",
    "      MODEL  |  TRAINING SCORE  |  TEST SCORE  |  GAP\n",
    "      ----------------------------------------------------\n",
    "      Lasso  |     {train}         |      {test}    |    {gap} \n",
    "\"\"\")\n",
    "# Dictionary to include model characteristcs\n",
    "Final_model = {\n",
    "    \n",
    "    'Model type' : ['Lasso'], # structure entirely retaken from Script 4\n",
    "    \n",
    "    'Training' : [train],\n",
    "    \n",
    "    'Testing' : [test],\n",
    "    \n",
    "    'Train-Test Gap' : [gap],\n",
    "    \n",
    "    'Model size' : [len(Lasso_lst)],\n",
    "    \n",
    "    'Model' : [Lasso_lst]\n",
    "}\n",
    "\n",
    "# Formation of dataframe and export to Excel (in doubt if required or not)\n",
    "Final_model = pd.DataFrame(Final_model)\n",
    "Final_model.to_excel('./Sessions 1-4 (Regression Modeling)/Gagliardi_Tommaso_A1_Regression_Analysis.xlsx')"
   ]
  },
  {
   "cell_type": "code",
   "execution_count": null,
   "id": "fe006d4c",
   "metadata": {},
   "outputs": [],
   "source": []
  }
 ],
 "metadata": {
  "kernelspec": {
   "display_name": "Python 3 (ipykernel)",
   "language": "python",
   "name": "python3"
  },
  "language_info": {
   "codemirror_mode": {
    "name": "ipython",
    "version": 3
   },
   "file_extension": ".py",
   "mimetype": "text/x-python",
   "name": "python",
   "nbconvert_exporter": "python",
   "pygments_lexer": "ipython3",
   "version": "3.8.8"
  },
  "toc": {
   "base_numbering": 1,
   "nav_menu": {},
   "number_sections": true,
   "sideBar": true,
   "skip_h1_title": false,
   "title_cell": "Table of Contents",
   "title_sidebar": "Contents",
   "toc_cell": false,
   "toc_position": {},
   "toc_section_display": true,
   "toc_window_display": false
  },
  "varInspector": {
   "cols": {
    "lenName": 16,
    "lenType": 16,
    "lenVar": 40
   },
   "kernels_config": {
    "python": {
     "delete_cmd_postfix": "",
     "delete_cmd_prefix": "del ",
     "library": "var_list.py",
     "varRefreshCmd": "print(var_dic_list())"
    },
    "r": {
     "delete_cmd_postfix": ") ",
     "delete_cmd_prefix": "rm(",
     "library": "var_list.r",
     "varRefreshCmd": "cat(var_dic_list()) "
    }
   },
   "types_to_exclude": [
    "module",
    "function",
    "builtin_function_or_method",
    "instance",
    "_Feature"
   ],
   "window_display": false
  }
 },
 "nbformat": 4,
 "nbformat_minor": 5
}
