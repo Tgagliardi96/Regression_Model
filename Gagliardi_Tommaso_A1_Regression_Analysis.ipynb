{
 "cells": [
  {
   "cell_type": "code",
   "execution_count": 213,
   "id": "7b7bce74",
   "metadata": {},
   "outputs": [
    {
     "name": "stdout",
     "output_type": "stream",
     "text": [
      "C:\\Users\\Tommaso\n"
     ]
    }
   ],
   "source": [
    "cd ~ "
   ]
  },
  {
   "cell_type": "code",
   "execution_count": 214,
   "id": "13bed9d8",
   "metadata": {},
   "outputs": [
    {
     "name": "stdout",
     "output_type": "stream",
     "text": [
      "C:\\Users\\Tommaso\\Desktop\\Hult documents\\Machine Learning\n"
     ]
    }
   ],
   "source": [
    "cd ./Desktop/Hult documents/Machine Learning "
   ]
  },
  {
   "cell_type": "code",
   "execution_count": 215,
   "id": "7f3a7252",
   "metadata": {},
   "outputs": [],
   "source": [
    "# Import of principal packages\n",
    "import os\n",
    "from os import listdir\n",
    "import pandas as pd\n",
    "import numpy as np\n",
    "import matplotlib.pyplot as plt\n",
    "import seaborn as sns\n",
    "import statsmodels.formula.api as smf"
   ]
  },
  {
   "cell_type": "code",
   "execution_count": 216,
   "id": "e91fd796",
   "metadata": {},
   "outputs": [
    {
     "name": "stdout",
     "output_type": "stream",
     "text": [
      ".ipynb_checkpoints\n",
      "birthweight.xlsx\n",
      "birthweight_data_dictionary.rtf\n",
      "birthweight_low 1.xlsx\n",
      "birthweight_low.xlsx\n",
      "Code for Apgar indexing.txt\n",
      "Datacamp ML 2.pdf\n",
      "Datacamp ML 3.pdf\n",
      "Datacamp ML 4.pdf\n",
      "Datacampa ML 1.pdf\n",
      "Datacamp_Supervised Learning.pdf\n",
      "Dropping missing data  Python.pdf\n",
      "introduction_to_ml_with_python-master\n",
      "Machine learning.docx\n",
      "Model Birthweight.jpg\n",
      "Outcomes model Birthweight_real.xlsx\n",
      "Plan for variable engineering.docx\n",
      "Preparation to Class 2.docx\n",
      "Regression data.txt\n",
      "Regression Output Cheat Sheet.xlsx\n",
      "Sessions 1-4 (Regression Modeling)\n",
      "Student.csv\n",
      "Untitled1.ipynb\n",
      "[ML] Introduction to Machine Learning with Python (2017).pdf\n",
      "~$an for variable engineering.docx\n"
     ]
    }
   ],
   "source": [
    "# Exploring folder for Excel file\n",
    "\n",
    "for datasets in listdir(path = '.'):\n",
    "    print(datasets)"
   ]
  },
  {
   "cell_type": "code",
   "execution_count": 217,
   "id": "1529bc80",
   "metadata": {},
   "outputs": [
    {
     "data": {
      "text/html": [
       "<div>\n",
       "<style scoped>\n",
       "    .dataframe tbody tr th:only-of-type {\n",
       "        vertical-align: middle;\n",
       "    }\n",
       "\n",
       "    .dataframe tbody tr th {\n",
       "        vertical-align: top;\n",
       "    }\n",
       "\n",
       "    .dataframe thead th {\n",
       "        text-align: right;\n",
       "    }\n",
       "</style>\n",
       "<table border=\"1\" class=\"dataframe\">\n",
       "  <thead>\n",
       "    <tr style=\"text-align: right;\">\n",
       "      <th></th>\n",
       "      <th>mage</th>\n",
       "      <th>meduc</th>\n",
       "      <th>monpre</th>\n",
       "      <th>npvis</th>\n",
       "      <th>fage</th>\n",
       "      <th>feduc</th>\n",
       "      <th>omaps</th>\n",
       "      <th>fmaps</th>\n",
       "      <th>cigs</th>\n",
       "      <th>drink</th>\n",
       "      <th>male</th>\n",
       "      <th>mwhte</th>\n",
       "      <th>mblck</th>\n",
       "      <th>moth</th>\n",
       "      <th>fwhte</th>\n",
       "      <th>fblck</th>\n",
       "      <th>foth</th>\n",
       "      <th>bwght</th>\n",
       "    </tr>\n",
       "  </thead>\n",
       "  <tbody>\n",
       "    <tr>\n",
       "      <th>0</th>\n",
       "      <td>69</td>\n",
       "      <td>NaN</td>\n",
       "      <td>5</td>\n",
       "      <td>2.0</td>\n",
       "      <td>62</td>\n",
       "      <td>NaN</td>\n",
       "      <td>4</td>\n",
       "      <td>7</td>\n",
       "      <td>23</td>\n",
       "      <td>9</td>\n",
       "      <td>1</td>\n",
       "      <td>0</td>\n",
       "      <td>1</td>\n",
       "      <td>0</td>\n",
       "      <td>0</td>\n",
       "      <td>1</td>\n",
       "      <td>0</td>\n",
       "      <td>697</td>\n",
       "    </tr>\n",
       "    <tr>\n",
       "      <th>1</th>\n",
       "      <td>68</td>\n",
       "      <td>12.0</td>\n",
       "      <td>3</td>\n",
       "      <td>10.0</td>\n",
       "      <td>61</td>\n",
       "      <td>11.0</td>\n",
       "      <td>4</td>\n",
       "      <td>6</td>\n",
       "      <td>25</td>\n",
       "      <td>11</td>\n",
       "      <td>1</td>\n",
       "      <td>1</td>\n",
       "      <td>0</td>\n",
       "      <td>0</td>\n",
       "      <td>1</td>\n",
       "      <td>0</td>\n",
       "      <td>0</td>\n",
       "      <td>1290</td>\n",
       "    </tr>\n",
       "    <tr>\n",
       "      <th>2</th>\n",
       "      <td>71</td>\n",
       "      <td>12.0</td>\n",
       "      <td>3</td>\n",
       "      <td>6.0</td>\n",
       "      <td>46</td>\n",
       "      <td>12.0</td>\n",
       "      <td>2</td>\n",
       "      <td>7</td>\n",
       "      <td>21</td>\n",
       "      <td>12</td>\n",
       "      <td>1</td>\n",
       "      <td>0</td>\n",
       "      <td>1</td>\n",
       "      <td>0</td>\n",
       "      <td>0</td>\n",
       "      <td>1</td>\n",
       "      <td>0</td>\n",
       "      <td>1490</td>\n",
       "    </tr>\n",
       "    <tr>\n",
       "      <th>3</th>\n",
       "      <td>59</td>\n",
       "      <td>16.0</td>\n",
       "      <td>1</td>\n",
       "      <td>8.0</td>\n",
       "      <td>48</td>\n",
       "      <td>16.0</td>\n",
       "      <td>7</td>\n",
       "      <td>8</td>\n",
       "      <td>21</td>\n",
       "      <td>10</td>\n",
       "      <td>0</td>\n",
       "      <td>0</td>\n",
       "      <td>0</td>\n",
       "      <td>1</td>\n",
       "      <td>0</td>\n",
       "      <td>0</td>\n",
       "      <td>1</td>\n",
       "      <td>1720</td>\n",
       "    </tr>\n",
       "    <tr>\n",
       "      <th>4</th>\n",
       "      <td>48</td>\n",
       "      <td>12.0</td>\n",
       "      <td>4</td>\n",
       "      <td>6.0</td>\n",
       "      <td>39</td>\n",
       "      <td>12.0</td>\n",
       "      <td>2</td>\n",
       "      <td>9</td>\n",
       "      <td>17</td>\n",
       "      <td>13</td>\n",
       "      <td>0</td>\n",
       "      <td>1</td>\n",
       "      <td>0</td>\n",
       "      <td>0</td>\n",
       "      <td>1</td>\n",
       "      <td>0</td>\n",
       "      <td>0</td>\n",
       "      <td>1956</td>\n",
       "    </tr>\n",
       "  </tbody>\n",
       "</table>\n",
       "</div>"
      ],
      "text/plain": [
       "   mage  meduc  monpre  npvis  fage  feduc  omaps  fmaps  cigs  drink  male  \\\n",
       "0    69    NaN       5    2.0    62    NaN      4      7    23      9     1   \n",
       "1    68   12.0       3   10.0    61   11.0      4      6    25     11     1   \n",
       "2    71   12.0       3    6.0    46   12.0      2      7    21     12     1   \n",
       "3    59   16.0       1    8.0    48   16.0      7      8    21     10     0   \n",
       "4    48   12.0       4    6.0    39   12.0      2      9    17     13     0   \n",
       "\n",
       "   mwhte  mblck  moth  fwhte  fblck  foth  bwght  \n",
       "0      0      1     0      0      1     0    697  \n",
       "1      1      0     0      1      0     0   1290  \n",
       "2      0      1     0      0      1     0   1490  \n",
       "3      0      0     1      0      0     1   1720  \n",
       "4      1      0     0      1      0     0   1956  "
      ]
     },
     "execution_count": 217,
     "metadata": {},
     "output_type": "execute_result"
    }
   ],
   "source": [
    "# Import of file \n",
    "\n",
    "dataframe = './birthweight_low.xlsx'\n",
    "\n",
    "# Read file and looking for every type of missing values\n",
    "\n",
    "real = pd.read_excel(io = dataframe,\n",
    "                     sheet_name = 0,\n",
    "                     header = 0,\n",
    "                     na_values = ['', '#N/A', '#N/A N/A', '#NA', '-1.#IND', \n",
    "                    '-1.#QNAN', '-NaN', '-nan','1.#IND', '1.#QNAN', '<NA>', \n",
    "                    'N/A', 'NA', 'NULL', 'NaN', 'n/a','nan', 'null','?'])\n",
    "real.head(n = 5)"
   ]
  },
  {
   "cell_type": "code",
   "execution_count": 218,
   "id": "300c2bb6",
   "metadata": {},
   "outputs": [
    {
     "name": "stdout",
     "output_type": "stream",
     "text": [
      "<class 'pandas.core.frame.DataFrame'>\n",
      "RangeIndex: 196 entries, 0 to 195\n",
      "Data columns (total 18 columns):\n",
      " #   Column  Non-Null Count  Dtype  \n",
      "---  ------  --------------  -----  \n",
      " 0   mage    196 non-null    int64  \n",
      " 1   meduc   193 non-null    float64\n",
      " 2   monpre  196 non-null    int64  \n",
      " 3   npvis   193 non-null    float64\n",
      " 4   fage    196 non-null    int64  \n",
      " 5   feduc   189 non-null    float64\n",
      " 6   omaps   196 non-null    int64  \n",
      " 7   fmaps   196 non-null    int64  \n",
      " 8   cigs    196 non-null    int64  \n",
      " 9   drink   196 non-null    int64  \n",
      " 10  male    196 non-null    int64  \n",
      " 11  mwhte   196 non-null    int64  \n",
      " 12  mblck   196 non-null    int64  \n",
      " 13  moth    196 non-null    int64  \n",
      " 14  fwhte   196 non-null    int64  \n",
      " 15  fblck   196 non-null    int64  \n",
      " 16  foth    196 non-null    int64  \n",
      " 17  bwght   196 non-null    int64  \n",
      "dtypes: float64(3), int64(15)\n",
      "memory usage: 27.7 KB\n"
     ]
    }
   ],
   "source": [
    "# characteristics of variables in dataset\n",
    "real.info()"
   ]
  },
  {
   "cell_type": "code",
   "execution_count": 219,
   "id": "0e3bbfa5",
   "metadata": {},
   "outputs": [],
   "source": [
    "# Change of variables that are not consistent with previous type (float)\n",
    "\n",
    "data_types = {'medu' : int,\n",
    "              'npvis': int,\n",
    "              'feduc' : int}"
   ]
  },
  {
   "cell_type": "code",
   "execution_count": 220,
   "id": "95675f9a",
   "metadata": {},
   "outputs": [
    {
     "data": {
      "image/png": "[encoded data removed]",
      "text/plain": [
       "<Figure size 432x288 with 1 Axes>"
      ]
     },
     "metadata": {
      "needs_background": "light"
     },
     "output_type": "display_data"
    }
   ],
   "source": [
    "# Distribution of the target variable: not normally distributed\n",
    "# Creation of histogram to visualize distribution\n",
    "sns.histplot(data = real,\n",
    "             x = 'bwght',\n",
    "             kde = True)\n",
    "\n",
    "plt.title(label = 'Distribution of target variable')\n",
    "plt.xlabel(xlabel = 'Birthweight')\n",
    "plt.ylabel(ylabel = 'Count')\n",
    "plt.show()"
   ]
  },
  {
   "cell_type": "code",
   "execution_count": 221,
   "id": "7ab06eba",
   "metadata": {},
   "outputs": [
    {
     "data": {
      "image/png": "[encoded data removed]",
      "text/plain": [
       "<Figure size 432x288 with 1 Axes>"
      ]
     },
     "metadata": {
      "needs_background": "light"
     },
     "output_type": "display_data"
    }
   ],
   "source": [
    "# Visualization of logarithm of target variable\n",
    "# Histogram to visualize\n",
    "real['log_bwght'] = np.log(real['bwght'])\n",
    "\n",
    "sns.histplot(data = real,\n",
    "             x = 'log_bwght',\n",
    "             kde = True)\n",
    "\n",
    "plt.title(label = 'Distribution of log birthweight')\n",
    "plt.xlabel(xlabel = 'log birthweight')\n",
    "plt.ylabel(ylabel = 'Count')\n",
    "plt.show()"
   ]
  },
  {
   "cell_type": "code",
   "execution_count": 222,
   "id": "07e23869",
   "metadata": {},
   "outputs": [
    {
     "data": {
      "text/html": [
       "<div>\n",
       "<style scoped>\n",
       "    .dataframe tbody tr th:only-of-type {\n",
       "        vertical-align: middle;\n",
       "    }\n",
       "\n",
       "    .dataframe tbody tr th {\n",
       "        vertical-align: top;\n",
       "    }\n",
       "\n",
       "    .dataframe thead th {\n",
       "        text-align: right;\n",
       "    }\n",
       "</style>\n",
       "<table border=\"1\" class=\"dataframe\">\n",
       "  <thead>\n",
       "    <tr style=\"text-align: right;\">\n",
       "      <th></th>\n",
       "      <th>mage</th>\n",
       "      <th>meduc</th>\n",
       "      <th>monpre</th>\n",
       "      <th>npvis</th>\n",
       "      <th>fage</th>\n",
       "      <th>feduc</th>\n",
       "      <th>omaps</th>\n",
       "      <th>fmaps</th>\n",
       "      <th>cigs</th>\n",
       "      <th>drink</th>\n",
       "      <th>male</th>\n",
       "      <th>mwhte</th>\n",
       "      <th>mblck</th>\n",
       "      <th>moth</th>\n",
       "      <th>fwhte</th>\n",
       "      <th>fblck</th>\n",
       "      <th>foth</th>\n",
       "      <th>bwght</th>\n",
       "      <th>log_bwght</th>\n",
       "    </tr>\n",
       "  </thead>\n",
       "  <tbody>\n",
       "    <tr>\n",
       "      <th>count</th>\n",
       "      <td>196.00</td>\n",
       "      <td>193.00</td>\n",
       "      <td>196.00</td>\n",
       "      <td>193.00</td>\n",
       "      <td>196.00</td>\n",
       "      <td>189.00</td>\n",
       "      <td>196.00</td>\n",
       "      <td>196.00</td>\n",
       "      <td>196.00</td>\n",
       "      <td>196.00</td>\n",
       "      <td>196.00</td>\n",
       "      <td>196.00</td>\n",
       "      <td>196.00</td>\n",
       "      <td>196.00</td>\n",
       "      <td>196.00</td>\n",
       "      <td>196.00</td>\n",
       "      <td>196.00</td>\n",
       "      <td>196.00</td>\n",
       "      <td>196.00</td>\n",
       "    </tr>\n",
       "    <tr>\n",
       "      <th>mean</th>\n",
       "      <td>40.15</td>\n",
       "      <td>13.91</td>\n",
       "      <td>2.34</td>\n",
       "      <td>11.60</td>\n",
       "      <td>39.29</td>\n",
       "      <td>13.85</td>\n",
       "      <td>8.19</td>\n",
       "      <td>8.96</td>\n",
       "      <td>10.93</td>\n",
       "      <td>5.40</td>\n",
       "      <td>0.55</td>\n",
       "      <td>0.27</td>\n",
       "      <td>0.38</td>\n",
       "      <td>0.35</td>\n",
       "      <td>0.35</td>\n",
       "      <td>0.34</td>\n",
       "      <td>0.31</td>\n",
       "      <td>3334.09</td>\n",
       "      <td>8.09</td>\n",
       "    </tr>\n",
       "    <tr>\n",
       "      <th>std</th>\n",
       "      <td>10.25</td>\n",
       "      <td>2.06</td>\n",
       "      <td>1.36</td>\n",
       "      <td>4.27</td>\n",
       "      <td>8.98</td>\n",
       "      <td>2.63</td>\n",
       "      <td>1.58</td>\n",
       "      <td>0.65</td>\n",
       "      <td>6.10</td>\n",
       "      <td>3.00</td>\n",
       "      <td>0.50</td>\n",
       "      <td>0.45</td>\n",
       "      <td>0.49</td>\n",
       "      <td>0.48</td>\n",
       "      <td>0.48</td>\n",
       "      <td>0.48</td>\n",
       "      <td>0.46</td>\n",
       "      <td>646.70</td>\n",
       "      <td>0.23</td>\n",
       "    </tr>\n",
       "    <tr>\n",
       "      <th>min</th>\n",
       "      <td>23.00</td>\n",
       "      <td>8.00</td>\n",
       "      <td>1.00</td>\n",
       "      <td>2.00</td>\n",
       "      <td>23.00</td>\n",
       "      <td>1.00</td>\n",
       "      <td>2.00</td>\n",
       "      <td>5.00</td>\n",
       "      <td>0.00</td>\n",
       "      <td>0.00</td>\n",
       "      <td>0.00</td>\n",
       "      <td>0.00</td>\n",
       "      <td>0.00</td>\n",
       "      <td>0.00</td>\n",
       "      <td>0.00</td>\n",
       "      <td>0.00</td>\n",
       "      <td>0.00</td>\n",
       "      <td>697.00</td>\n",
       "      <td>6.55</td>\n",
       "    </tr>\n",
       "    <tr>\n",
       "      <th>25%</th>\n",
       "      <td>33.00</td>\n",
       "      <td>12.00</td>\n",
       "      <td>2.00</td>\n",
       "      <td>10.00</td>\n",
       "      <td>34.75</td>\n",
       "      <td>12.00</td>\n",
       "      <td>8.00</td>\n",
       "      <td>9.00</td>\n",
       "      <td>6.00</td>\n",
       "      <td>4.00</td>\n",
       "      <td>0.00</td>\n",
       "      <td>0.00</td>\n",
       "      <td>0.00</td>\n",
       "      <td>0.00</td>\n",
       "      <td>0.00</td>\n",
       "      <td>0.00</td>\n",
       "      <td>0.00</td>\n",
       "      <td>2916.25</td>\n",
       "      <td>7.98</td>\n",
       "    </tr>\n",
       "    <tr>\n",
       "      <th>50%</th>\n",
       "      <td>39.00</td>\n",
       "      <td>14.00</td>\n",
       "      <td>2.00</td>\n",
       "      <td>12.00</td>\n",
       "      <td>38.00</td>\n",
       "      <td>14.00</td>\n",
       "      <td>9.00</td>\n",
       "      <td>9.00</td>\n",
       "      <td>11.00</td>\n",
       "      <td>5.00</td>\n",
       "      <td>1.00</td>\n",
       "      <td>0.00</td>\n",
       "      <td>0.00</td>\n",
       "      <td>0.00</td>\n",
       "      <td>0.00</td>\n",
       "      <td>0.00</td>\n",
       "      <td>0.00</td>\n",
       "      <td>3452.00</td>\n",
       "      <td>8.15</td>\n",
       "    </tr>\n",
       "    <tr>\n",
       "      <th>75%</th>\n",
       "      <td>46.00</td>\n",
       "      <td>16.00</td>\n",
       "      <td>3.00</td>\n",
       "      <td>12.00</td>\n",
       "      <td>43.00</td>\n",
       "      <td>16.00</td>\n",
       "      <td>9.00</td>\n",
       "      <td>9.00</td>\n",
       "      <td>15.25</td>\n",
       "      <td>7.25</td>\n",
       "      <td>1.00</td>\n",
       "      <td>1.00</td>\n",
       "      <td>1.00</td>\n",
       "      <td>1.00</td>\n",
       "      <td>1.00</td>\n",
       "      <td>1.00</td>\n",
       "      <td>1.00</td>\n",
       "      <td>3759.50</td>\n",
       "      <td>8.23</td>\n",
       "    </tr>\n",
       "    <tr>\n",
       "      <th>max</th>\n",
       "      <td>71.00</td>\n",
       "      <td>17.00</td>\n",
       "      <td>8.00</td>\n",
       "      <td>35.00</td>\n",
       "      <td>73.00</td>\n",
       "      <td>17.00</td>\n",
       "      <td>10.00</td>\n",
       "      <td>10.00</td>\n",
       "      <td>25.00</td>\n",
       "      <td>14.00</td>\n",
       "      <td>1.00</td>\n",
       "      <td>1.00</td>\n",
       "      <td>1.00</td>\n",
       "      <td>1.00</td>\n",
       "      <td>1.00</td>\n",
       "      <td>1.00</td>\n",
       "      <td>1.00</td>\n",
       "      <td>4933.00</td>\n",
       "      <td>8.50</td>\n",
       "    </tr>\n",
       "  </tbody>\n",
       "</table>\n",
       "</div>"
      ],
      "text/plain": [
       "         mage   meduc  monpre   npvis    fage   feduc   omaps   fmaps    cigs  \\\n",
       "count  196.00  193.00  196.00  193.00  196.00  189.00  196.00  196.00  196.00   \n",
       "mean    40.15   13.91    2.34   11.60   39.29   13.85    8.19    8.96   10.93   \n",
       "std     10.25    2.06    1.36    4.27    8.98    2.63    1.58    0.65    6.10   \n",
       "min     23.00    8.00    1.00    2.00   23.00    1.00    2.00    5.00    0.00   \n",
       "25%     33.00   12.00    2.00   10.00   34.75   12.00    8.00    9.00    6.00   \n",
       "50%     39.00   14.00    2.00   12.00   38.00   14.00    9.00    9.00   11.00   \n",
       "75%     46.00   16.00    3.00   12.00   43.00   16.00    9.00    9.00   15.25   \n",
       "max     71.00   17.00    8.00   35.00   73.00   17.00   10.00   10.00   25.00   \n",
       "\n",
       "        drink    male   mwhte   mblck    moth   fwhte   fblck    foth  \\\n",
       "count  196.00  196.00  196.00  196.00  196.00  196.00  196.00  196.00   \n",
       "mean     5.40    0.55    0.27    0.38    0.35    0.35    0.34    0.31   \n",
       "std      3.00    0.50    0.45    0.49    0.48    0.48    0.48    0.46   \n",
       "min      0.00    0.00    0.00    0.00    0.00    0.00    0.00    0.00   \n",
       "25%      4.00    0.00    0.00    0.00    0.00    0.00    0.00    0.00   \n",
       "50%      5.00    1.00    0.00    0.00    0.00    0.00    0.00    0.00   \n",
       "75%      7.25    1.00    1.00    1.00    1.00    1.00    1.00    1.00   \n",
       "max     14.00    1.00    1.00    1.00    1.00    1.00    1.00    1.00   \n",
       "\n",
       "         bwght  log_bwght  \n",
       "count   196.00     196.00  \n",
       "mean   3334.09       8.09  \n",
       "std     646.70       0.23  \n",
       "min     697.00       6.55  \n",
       "25%    2916.25       7.98  \n",
       "50%    3452.00       8.15  \n",
       "75%    3759.50       8.23  \n",
       "max    4933.00       8.50  "
      ]
     },
     "execution_count": 222,
     "metadata": {},
     "output_type": "execute_result"
    }
   ],
   "source": [
    "# Assumption on y: variable continuous. Function describe to check how many other are continuous\n",
    "\n",
    "real.describe(include = 'number').round(decimals = 2)"
   ]
  },
  {
   "cell_type": "code",
   "execution_count": 223,
   "id": "ba603411",
   "metadata": {},
   "outputs": [
    {
     "name": "stdout",
     "output_type": "stream",
     "text": [
      "            mage     meduc    monpre     npvis      fage     feduc     omaps  \\\n",
      "mage    1.000000 -0.096693  0.164198 -0.051850  0.583608 -0.090004 -0.211302   \n",
      "meduc  -0.096693  1.000000 -0.235765  0.141150 -0.071318  0.630630  0.255120   \n",
      "monpre  0.164198 -0.235765  1.000000 -0.343161  0.042767 -0.333480 -0.168007   \n",
      "npvis  -0.051850  0.141150 -0.343161  1.000000 -0.061975  0.026863  0.091494   \n",
      "fage    0.583608 -0.071318  0.042767 -0.061975  1.000000 -0.013344 -0.157184   \n",
      "feduc  -0.090004  0.630630 -0.333480  0.026863 -0.013344  1.000000  0.339666   \n",
      "omaps  -0.211302  0.255120 -0.168007  0.091494 -0.157184  0.339666  1.000000   \n",
      "fmaps  -0.238031  0.144510 -0.084856  0.087767 -0.196277  0.136041  0.640958   \n",
      "cigs    0.167293  0.104831 -0.058436  0.036387  0.174795  0.050916 -0.149436   \n",
      "drink   0.336698 -0.072426  0.015553 -0.067837  0.291435 -0.124482 -0.175694   \n",
      "bwght  -0.463811  0.099364 -0.051827  0.061689 -0.395985  0.139460  0.250153   \n",
      "\n",
      "           fmaps      cigs     drink     bwght  \n",
      "mage   -0.238031  0.167293  0.336698 -0.463811  \n",
      "meduc   0.144510  0.104831 -0.072426  0.099364  \n",
      "monpre -0.084856 -0.058436  0.015553 -0.051827  \n",
      "npvis   0.087767  0.036387 -0.067837  0.061689  \n",
      "fage   -0.196277  0.174795  0.291435 -0.395985  \n",
      "feduc   0.136041  0.050916 -0.124482  0.139460  \n",
      "omaps   0.640958 -0.149436 -0.175694  0.250153  \n",
      "fmaps   1.000000 -0.094834 -0.157919  0.252024  \n",
      "cigs   -0.094834  1.000000  0.355779 -0.572385  \n",
      "drink  -0.157919  0.355779  1.000000 -0.743125  \n",
      "bwght   0.252024 -0.572385 -0.743125  1.000000  \n"
     ]
    }
   ],
   "source": [
    "# Checked the correlation between all continuous variables in dataset\n",
    "\n",
    "numerical_data = ['mage', 'meduc', 'monpre', 'npvis', 'fage', 'feduc', 'omaps', 'fmaps', 'cigs', 'drink', 'bwght']\n",
    "\n",
    "real_corr = real[numerical_data].corr(method = 'pearson')\n",
    "print(real_corr)"
   ]
  },
  {
   "cell_type": "code",
   "execution_count": 224,
   "id": "206c0146",
   "metadata": {},
   "outputs": [
    {
     "data": {
      "text/plain": [
       "drink    -0.74\n",
       "cigs     -0.57\n",
       "mage     -0.46\n",
       "fage     -0.40\n",
       "monpre   -0.05\n",
       "npvis     0.06\n",
       "meduc     0.10\n",
       "feduc     0.14\n",
       "omaps     0.25\n",
       "fmaps     0.25\n",
       "bwght     1.00\n",
       "Name: bwght, dtype: float64"
      ]
     },
     "execution_count": 224,
     "metadata": {},
     "output_type": "execute_result"
    }
   ],
   "source": [
    "# Coefficients of correlation between continuous variables and target\n",
    "real_corr.loc[ : , 'bwght'].round(decimals = 2).sort_values(ascending = True)"
   ]
  },
  {
   "cell_type": "code",
   "execution_count": 225,
   "id": "e08ed8d4",
   "metadata": {},
   "outputs": [],
   "source": [
    "# List of categorical variables\n",
    "#Pearson correlation with target\n",
    "categorical_data = ['male', 'mwhte', 'mblck', 'moth', 'fwhte', 'fblck', 'foth', 'bwght']\n",
    "\n",
    "real_corr_2 = real[categorical_data].corr(method = 'pearson')"
   ]
  },
  {
   "cell_type": "code",
   "execution_count": 226,
   "id": "f2f051ac",
   "metadata": {},
   "outputs": [
    {
     "data": {
      "text/plain": [
       "mwhte   -0.11\n",
       "foth    -0.08\n",
       "fwhte   -0.04\n",
       "moth    -0.02\n",
       "male     0.11\n",
       "fblck    0.12\n",
       "mblck    0.13\n",
       "bwght    1.00\n",
       "Name: bwght, dtype: float64"
      ]
     },
     "execution_count": 226,
     "metadata": {},
     "output_type": "execute_result"
    }
   ],
   "source": [
    "real_corr_2.loc[ : , 'bwght'].round(decimals = 2).sort_values(ascending = True) # Result of correlation"
   ]
  },
  {
   "cell_type": "code",
   "execution_count": 227,
   "id": "e2328a97",
   "metadata": {
    "scrolled": false
   },
   "outputs": [
    {
     "data": {
      "image/png": "[encoded data removed]",
      "text/plain": [
       "<Figure size 432x288 with 1 Axes>"
      ]
     },
     "metadata": {
      "needs_background": "light"
     },
     "output_type": "display_data"
    },
    {
     "data": {
      "image/png": "[encoded data removed]",
      "text/plain": [
       "<Figure size 432x288 with 1 Axes>"
      ]
     },
     "metadata": {
      "needs_background": "light"
     },
     "output_type": "display_data"
    },
    {
     "data": {
      "image/png": "[encoded data removed]",
      "text/plain": [
       "<Figure size 432x288 with 1 Axes>"
      ]
     },
     "metadata": {
      "needs_background": "light"
     },
     "output_type": "display_data"
    },
    {
     "data": {
      "image/png": "[encoded data removed]",
      "text/plain": [
       "<Figure size 432x288 with 1 Axes>"
      ]
     },
     "metadata": {
      "needs_background": "light"
     },
     "output_type": "display_data"
    },
    {
     "data": {
      "image/png": "[encoded data removed]",
      "text/plain": [
       "<Figure size 432x288 with 1 Axes>"
      ]
     },
     "metadata": {
      "needs_background": "light"
     },
     "output_type": "display_data"
    },
    {
     "data": {
      "image/png": "[encoded data removed]",
      "text/plain": [
       "<Figure size 432x288 with 1 Axes>"
      ]
     },
     "metadata": {
      "needs_background": "light"
     },
     "output_type": "display_data"
    }
   ],
   "source": [
    "# Explore every single x-variable with a histogram to see distribution\n",
    "# Histogram for age of mother\n",
    "sns.histplot(data = real,\n",
    "             x = 'mage',\n",
    "             kde = True)\n",
    "plt.title(label = 'Distribution Age mother')\n",
    "plt.xlabel(xlabel = 'Age mother')\n",
    "plt.ylabel(ylabel = 'Count')\n",
    "plt.show() \n",
    "\n",
    "# Histogram for age of father\n",
    "sns.histplot(data = real,\n",
    "             x = 'fage',\n",
    "             kde = True)\n",
    "plt.title(label = 'Distribution Age father')\n",
    "plt.xlabel(xlabel = 'Age father')\n",
    "plt.ylabel(ylabel = 'Count')\n",
    "plt.show()\n",
    "\n",
    "# Histogram for Apgar test 1 minute\n",
    "sns.histplot(data = real,\n",
    "             x = 'omaps',\n",
    "             kde = True)\n",
    "plt.title(label = 'Distribution Apgar score 1 minute')\n",
    "plt.xlabel(xlabel = 'Apgar score 1 minute')\n",
    "plt.ylabel(ylabel = 'Count')\n",
    "plt.show()\n",
    "\n",
    "# Histogram for Apgar test 5 minutes\n",
    "sns.histplot(data = real,\n",
    "             x = 'fmaps',\n",
    "             kde = True)\n",
    "plt.title(label = 'Distribution Apgar score 5 minutes')\n",
    "plt.xlabel(xlabel = 'Apgar score 5 minutes')\n",
    "plt.ylabel(ylabel = 'Count')\n",
    "plt.show()\n",
    "\n",
    "# Histogram for cigarettes\n",
    "sns.histplot(data = real,\n",
    "             x = 'cigs',\n",
    "             kde = True)\n",
    "plt.title(label = 'Distribution daily cigarettes')\n",
    "plt.xlabel(xlabel = 'Daily cigarettes')\n",
    "plt.ylabel(ylabel = 'Count')\n",
    "plt.show()\n",
    "\n",
    "#Histogram for drink\n",
    "sns.histplot(data = real,\n",
    "             x = 'drink',\n",
    "             kde = True)\n",
    "plt.title(label = 'Distribution Weekly drinks')\n",
    "plt.xlabel(xlabel = 'Weekly drinks')\n",
    "plt.ylabel(ylabel = 'Count')\n",
    "plt.show()"
   ]
  },
  {
   "cell_type": "code",
   "execution_count": 228,
   "id": "fab92153",
   "metadata": {},
   "outputs": [],
   "source": [
    "# Logarithmic variables for relevant X \n",
    "# Choice on base of coefficients of correlation\n",
    "real['log_mage'] = np.log(real['mage'])\n",
    "real['log_fage'] = np.log(real['fage'])\n",
    "real['log_omaps'] = np.log(real['omaps'])\n",
    "real['log_fmaps'] = np.log(real['fmaps'])"
   ]
  },
  {
   "cell_type": "code",
   "execution_count": 229,
   "id": "5cc5eaf3",
   "metadata": {},
   "outputs": [
    {
     "data": {
      "image/png": "[encoded data removed]",
      "text/plain": [
       "<Figure size 432x288 with 1 Axes>"
      ]
     },
     "metadata": {
      "needs_background": "light"
     },
     "output_type": "display_data"
    },
    {
     "data": {
      "image/png": "[encoded data removed]",
      "text/plain": [
       "<Figure size 432x288 with 1 Axes>"
      ]
     },
     "metadata": {
      "needs_background": "light"
     },
     "output_type": "display_data"
    },
    {
     "data": {
      "image/png": "[encoded data removed]",
      "text/plain": [
       "<Figure size 432x288 with 1 Axes>"
      ]
     },
     "metadata": {
      "needs_background": "light"
     },
     "output_type": "display_data"
    },
    {
     "data": {
      "image/png": "[encoded data removed]",
      "text/plain": [
       "<Figure size 432x288 with 1 Axes>"
      ]
     },
     "metadata": {
      "needs_background": "light"
     },
     "output_type": "display_data"
    }
   ],
   "source": [
    "#Distribution of logarithmic variables \n",
    "# Histogram for logarithmic age mother\n",
    "sns.histplot(data = real,\n",
    "             x = 'log_mage',\n",
    "             kde = True)\n",
    "plt.title(label = 'Logarithmic distribution age mother')\n",
    "plt.xlabel(xlabel = 'Log age mother')\n",
    "plt.ylabel(ylabel = 'Count')\n",
    "plt.show()\n",
    "\n",
    "# Histogram for logarithmic age father\n",
    "sns.histplot(data = real,\n",
    "             x = 'log_fage',\n",
    "             kde = True)\n",
    "plt.title(label = 'Logarithmic distribution age father')\n",
    "plt.xlabel(xlabel = 'Log age father')\n",
    "plt.ylabel(ylabel = 'Count')\n",
    "plt.show()\n",
    "\n",
    "# Histogram for logarithmic Apgar Test 1 minute\n",
    "sns.histplot(data = real,\n",
    "             x = 'log_omaps',\n",
    "             kde = True)\n",
    "plt.title(label = 'Logarithmic distribution Apgar 1')\n",
    "plt.xlabel(xlabel = 'Log Apgar 5')\n",
    "plt.ylabel(ylabel = 'Count')\n",
    "plt.show()\n",
    "\n",
    "# Histogram for logarithmic Apgar Test 5 minutes\n",
    "sns.histplot(data = real,\n",
    "             x = 'log_fmaps',\n",
    "             kde = True)\n",
    "plt.title(label = 'Logarithmic distribution Apgar 5')\n",
    "plt.xlabel(xlabel = 'Log Apgar 5')\n",
    "plt.ylabel(ylabel = 'Count')\n",
    "plt.show()"
   ]
  },
  {
   "cell_type": "code",
   "execution_count": 230,
   "id": "7481c5f3",
   "metadata": {},
   "outputs": [
    {
     "data": {
      "text/plain": [
       "log_mage    -0.42\n",
       "log_fage    -0.38\n",
       "log_omaps    0.26\n",
       "log_fmaps    0.26\n",
       "bwght        1.00\n",
       "Name: bwght, dtype: float64"
      ]
     },
     "execution_count": 230,
     "metadata": {},
     "output_type": "execute_result"
    }
   ],
   "source": [
    "# List of logarithmic variables to explore their correlation with target\n",
    "logarithmic_data = ['log_mage', 'log_fage', 'log_omaps', 'log_fmaps', 'bwght']\n",
    "\n",
    "real_3 = real[logarithmic_data].corr(method = 'pearson')\n",
    "\n",
    "real_3.loc[ : , 'bwght'].round(decimals = 2).sort_values(ascending = True)"
   ]
  },
  {
   "cell_type": "code",
   "execution_count": 231,
   "id": "9e06ad29",
   "metadata": {},
   "outputs": [
    {
     "name": "stdout",
     "output_type": "stream",
     "text": [
      "                            OLS Regression Results                            \n",
      "==============================================================================\n",
      "Dep. Variable:                  bwght   R-squared:                       0.752\n",
      "Model:                            OLS   Adj. R-squared:                  0.724\n",
      "Method:                 Least Squares   F-statistic:                     26.49\n",
      "Date:                Wed, 24 Nov 2021   Prob (F-statistic):           1.40e-40\n",
      "Time:                        20:03:32   Log-Likelihood:                -1330.1\n",
      "No. Observations:                 186   AIC:                             2700.\n",
      "Df Residuals:                     166   BIC:                             2765.\n",
      "Df Model:                          19                                         \n",
      "Covariance Type:            nonrobust                                         \n",
      "==============================================================================\n",
      "                 coef    std err          t      P>|t|      [0.025      0.975]\n",
      "------------------------------------------------------------------------------\n",
      "Intercept  -1440.5923   2432.024     -0.592      0.554   -6242.277    3361.093\n",
      "mage         -48.4243     16.998     -2.849      0.005     -81.985     -14.864\n",
      "meduc         25.0712     16.255      1.542      0.125      -7.023      57.165\n",
      "fage         -15.7798     17.655     -0.894      0.373     -50.638      19.078\n",
      "monpre        27.3089     22.988      1.188      0.237     -18.078      72.695\n",
      "npvis          0.8619      6.221      0.139      0.890     -11.421      13.145\n",
      "feduc         21.2444     14.037      1.513      0.132      -6.470      48.958\n",
      "omaps       -115.7593     90.964     -1.273      0.205    -295.355      63.837\n",
      "fmaps         79.6458    359.659      0.221      0.825    -630.449     789.741\n",
      "cigs         -35.0318      4.588     -7.636      0.000     -44.090     -25.974\n",
      "drink       -106.2873      9.658    -11.005      0.000    -125.355     -87.220\n",
      "male          32.7015     50.228      0.651      0.516     -66.467     131.870\n",
      "mwhte       -416.3993    805.766     -0.517      0.606   -2007.270    1174.471\n",
      "mblck       -633.9871    824.585     -0.769      0.443   -2262.013     994.039\n",
      "moth        -390.2059    816.822     -0.478      0.633   -2002.904    1222.492\n",
      "fwhte       -495.6617    811.611     -0.611      0.542   -2098.071    1106.748\n",
      "fblck       -275.5673    814.820     -0.338      0.736   -1884.313    1333.178\n",
      "foth        -669.3633    821.688     -0.815      0.416   -2291.669     952.943\n",
      "log_mage    1602.5930    691.433      2.318      0.022     237.457    2967.729\n",
      "log_fage     569.7557    713.920      0.798      0.426    -839.779    1979.290\n",
      "log_omaps    570.7694    472.404      1.208      0.229    -361.924    1503.463\n",
      "log_fmaps   -171.4509   2865.834     -0.060      0.952   -5829.632    5486.730\n",
      "==============================================================================\n",
      "Omnibus:                        1.089   Durbin-Watson:                   1.413\n",
      "Prob(Omnibus):                  0.580   Jarque-Bera (JB):                0.813\n",
      "Skew:                           0.149   Prob(JB):                        0.666\n",
      "Kurtosis:                       3.125   Cond. No.                     8.02e+17\n",
      "==============================================================================\n",
      "\n",
      "Notes:\n",
      "[1] Standard Errors assume that the covariance matrix of the errors is correctly specified.\n",
      "[2] The smallest eigenvalue is 1.2e-30. This might indicate that there are\n",
      "strong multicollinearity problems or that the design matrix is singular.\n"
     ]
    }
   ],
   "source": [
    "# First matrix for OLS correlation: comprehension of entire dataset\n",
    "real_ols = smf.ols(formula = \"\"\"bwght ~ mage + \n",
    "                                        meduc +                                                                          \n",
    "                                        fage +\n",
    "                                        monpre +\n",
    "                                        npvis +\n",
    "                                        feduc +\n",
    "                                        omaps +\n",
    "                                        fmaps +                                    \n",
    "                                        cigs +\n",
    "                                        drink +\n",
    "                                        male +\n",
    "                                        mwhte +\n",
    "                                        mblck +\n",
    "                                        moth +\n",
    "                                        fwhte +\n",
    "                                        fblck +\n",
    "                                        foth +\n",
    "                                        log_mage +\n",
    "                                        log_fage +\n",
    "                                        log_omaps +\n",
    "                                        log_fmaps                                        \n",
    "                                        \"\"\",\n",
    "                                        data = real)\n",
    "outcome = real_ols.fit()\n",
    "print(outcome.summary())"
   ]
  },
  {
   "cell_type": "code",
   "execution_count": 232,
   "id": "f2157915",
   "metadata": {},
   "outputs": [
    {
     "data": {
      "text/plain": [
       "mage         0\n",
       "meduc        3\n",
       "monpre       0\n",
       "npvis        3\n",
       "fage         0\n",
       "feduc        7\n",
       "omaps        0\n",
       "fmaps        0\n",
       "cigs         0\n",
       "drink        0\n",
       "male         0\n",
       "mwhte        0\n",
       "mblck        0\n",
       "moth         0\n",
       "fwhte        0\n",
       "fblck        0\n",
       "foth         0\n",
       "bwght        0\n",
       "log_bwght    0\n",
       "log_mage     0\n",
       "log_fage     0\n",
       "log_omaps    0\n",
       "log_fmaps    0\n",
       "dtype: int64"
      ]
     },
     "execution_count": 232,
     "metadata": {},
     "output_type": "execute_result"
    }
   ],
   "source": [
    "real.isnull().sum() # Sum of missing values in entire dataset"
   ]
  },
  {
   "cell_type": "code",
   "execution_count": 233,
   "id": "e3b39cc3",
   "metadata": {},
   "outputs": [
    {
     "data": {
      "text/plain": [
       "m_meduc    3\n",
       "m_npvis    3\n",
       "m_feduc    7\n",
       "dtype: int64"
      ]
     },
     "execution_count": 233,
     "metadata": {},
     "output_type": "execute_result"
    }
   ],
   "source": [
    "# Code for missing values columns\n",
    "for col in real:\n",
    "    if real[col].isnull().astype(int).sum() > 0:\n",
    "        real['m_'+col] = real[col].isnull().astype(int)\n",
    "        \n",
    "real[ ['m_meduc', 'm_npvis', 'm_feduc'] ].sum(axis = 0)"
   ]
  },
  {
   "cell_type": "code",
   "execution_count": 234,
   "id": "b64829b8",
   "metadata": {},
   "outputs": [],
   "source": [
    "# Due to low number of cases and small standard devation for every variable, they will be filled the mean\n",
    "\n",
    "fill = real['meduc'].mean()\n",
    "fill = real['npvis'].mean()\n",
    "fill = real['feduc'].mean()\n",
    "\n",
    "real['meduc'].fillna(fill,\n",
    "                           inplace = True) # Add of inplace to fill dataset named real\n",
    "real['npvis'].fillna(fill,\n",
    "                      inplace = True)\n",
    "real['feduc'].fillna(fill,\n",
    "                           inplace = True)"
   ]
  },
  {
   "cell_type": "code",
   "execution_count": 235,
   "id": "4c6d089c",
   "metadata": {},
   "outputs": [
    {
     "data": {
      "text/plain": [
       "mage         False\n",
       "meduc        False\n",
       "monpre       False\n",
       "npvis        False\n",
       "fage         False\n",
       "feduc        False\n",
       "omaps        False\n",
       "fmaps        False\n",
       "cigs         False\n",
       "drink        False\n",
       "male         False\n",
       "mwhte        False\n",
       "mblck        False\n",
       "moth         False\n",
       "fwhte        False\n",
       "fblck        False\n",
       "foth         False\n",
       "bwght        False\n",
       "log_bwght    False\n",
       "log_mage     False\n",
       "log_fage     False\n",
       "log_omaps    False\n",
       "log_fmaps    False\n",
       "m_meduc      False\n",
       "m_npvis      False\n",
       "m_feduc      False\n",
       "dtype: bool"
      ]
     },
     "execution_count": 235,
     "metadata": {},
     "output_type": "execute_result"
    }
   ],
   "source": [
    "real.isnull().any() # Check of missing values still present "
   ]
  },
  {
   "cell_type": "code",
   "execution_count": 236,
   "id": "0514185c",
   "metadata": {},
   "outputs": [
    {
     "data": {
      "text/plain": [
       "<AxesSubplot:xlabel='drink', ylabel='bwght'>"
      ]
     },
     "execution_count": 236,
     "metadata": {},
     "output_type": "execute_result"
    },
    {
     "data": {
      "image/png": "[encoded data removed]",
      "text/plain": [
       "<Figure size 720x576 with 4 Axes>"
      ]
     },
     "metadata": {
      "needs_background": "light"
     },
     "output_type": "display_data"
    },
    {
     "data": {
      "image/png": "[encoded data removed]",
      "text/plain": [
       "<Figure size 720x864 with 2 Axes>"
      ]
     },
     "metadata": {
      "needs_background": "light"
     },
     "output_type": "display_data"
    }
   ],
   "source": [
    "# Creation of scatterplots\n",
    "# Correlation between most relevant continuous variables and target\n",
    "fig, ax = plt.subplots(figsize = (10, 8))\n",
    "\n",
    "plt.subplot(2, 2, 1)\n",
    "sns.regplot(x = real['mage'],\n",
    "            y = real['bwght']) # Use of regplot to have trendline\n",
    "\n",
    "plt.subplot(2, 2, 2)\n",
    "sns.regplot(x = real['fage'],\n",
    "            y = real['bwght'])\n",
    "\n",
    "plt.subplot(2, 2, 3)\n",
    "sns.boxplot(x = real['omaps'],\n",
    "            y = real['bwght']) # Use of boxplot for numerical discrete values\n",
    "\n",
    "plt.subplot(2, 2, 4)\n",
    "sns.boxplot(x = real['fmaps'],\n",
    "            y = real['bwght'])\n",
    "\n",
    "fig, ax = plt.subplots(figsize = (10, 12)) # Space for other scatterplots\n",
    "\n",
    "plt.subplot(3, 2, 1)\n",
    "sns.regplot(x = real['cigs'],\n",
    "            y = real['bwght'])\n",
    "\n",
    "plt.subplot(3, 2, 2)\n",
    "sns.regplot(x = real['drink'],\n",
    "            y = real['bwght'])"
   ]
  },
  {
   "cell_type": "code",
   "execution_count": 237,
   "id": "90812750",
   "metadata": {
    "code_folding": []
   },
   "outputs": [
    {
     "data": {
      "text/plain": [
       "<AxesSubplot:xlabel='moth', ylabel='bwght'>"
      ]
     },
     "execution_count": 237,
     "metadata": {},
     "output_type": "execute_result"
    },
    {
     "data": {
      "image/png": "[encoded data removed]",
      "text/plain": [
       "<Figure size 720x576 with 4 Axes>"
      ]
     },
     "metadata": {
      "needs_background": "light"
     },
     "output_type": "display_data"
    }
   ],
   "source": [
    "# Visualization of correlation with most relevant categorical values\n",
    "fig, ax = plt.subplots(figsize = (10, 8))\n",
    "\n",
    "plt.subplot(2, 2, 1)\n",
    "sns.boxplot(x = real['mwhte'],\n",
    "                y = real['bwght'],\n",
    "                color = 'g')\n",
    "\n",
    "plt.subplot(2, 2, 2)\n",
    "sns.boxplot(x = real['foth'],\n",
    "                y = real['bwght'],\n",
    "                color = 'g')\n",
    "\n",
    "plt.subplot(2, 2, 3)\n",
    "sns.boxplot(x = real['fwhte'],\n",
    "                y = real['bwght'],\n",
    "                color = 'g')\n",
    "\n",
    "\n",
    "plt.subplot(2, 2, 4)\n",
    "sns.boxplot(x = real['moth'],\n",
    "                y = real['bwght'],\n",
    "                color = 'g')\n"
   ]
  },
  {
   "cell_type": "code",
   "execution_count": 238,
   "id": "46489af5",
   "metadata": {},
   "outputs": [],
   "source": [
    "real_corr = real.corr() # Preparation of correlation for heatmaps"
   ]
  },
  {
   "cell_type": "code",
   "execution_count": 239,
   "id": "21900845",
   "metadata": {},
   "outputs": [
    {
     "data": {
      "text/plain": [
       "<AxesSubplot:>"
      ]
     },
     "execution_count": 239,
     "metadata": {},
     "output_type": "execute_result"
    },
    {
     "data": {
      "image/png": "[encoded data removed]",
      "text/plain": [
       "<Figure size 432x288 with 2 Axes>"
      ]
     },
     "metadata": {
      "needs_background": "light"
     },
     "output_type": "display_data"
    }
   ],
   "source": [
    "# First heatmap for correlation with numerical values\n",
    "real_heat = real_corr.loc[ ['bwght', 'mage', 'monpre', 'fage', \n",
    "                         'meduc', 'npvis', 'feduc', 'omaps', 'fmaps',\n",
    "                         'cigs', 'drink', 'male'],\n",
    "                        ['bwght', 'mage', 'monpre', 'fage', \n",
    "                         'meduc', 'npvis', 'feduc', 'omaps', 'fmaps',\n",
    "                         'cigs', 'drink', 'male'] ]\n",
    "\n",
    "sns.heatmap(real_heat.corr(), vmin = -1.00, vmax = 1.00, square = True, cmap = 'RdYlGn') # Choice of red-yellow-green to \n",
    "                                                                                         # make evident positive-negative correlations"
   ]
  },
  {
   "cell_type": "code",
   "execution_count": 240,
   "id": "7016efbf",
   "metadata": {},
   "outputs": [
    {
     "data": {
      "text/plain": [
       "<AxesSubplot:>"
      ]
     },
     "execution_count": 240,
     "metadata": {},
     "output_type": "execute_result"
    },
    {
     "data": {
      "image/png": "[encoded data removed]",
      "text/plain": [
       "<Figure size 432x288 with 2 Axes>"
      ]
     },
     "metadata": {
      "needs_background": "light"
     },
     "output_type": "display_data"
    }
   ],
   "source": [
    "# Second heatmap for correlation with categorical values\n",
    "real_heat2 = real_corr.loc[ ['bwght', 'mwhte', 'mblck', 'moth',\n",
    "                             'fwhte', 'fblck', 'foth'],\n",
    "                         ['bwght', 'mwhte', 'mblck', 'moth',\n",
    "                          'fwhte', 'fblck', 'foth'] ]\n",
    "\n",
    "sns.heatmap(real_heat2.corr(), vmin = -1.00, vmax = 1.00, square = True, cmap = 'RdYlGn')"
   ]
  },
  {
   "cell_type": "code",
   "execution_count": 241,
   "id": "55c35a51",
   "metadata": {},
   "outputs": [],
   "source": [
    "# Import of packages from sklearn to split and do linear regression\n",
    "from sklearn.model_selection import train_test_split\n",
    "from sklearn.linear_model import LinearRegression"
   ]
  },
  {
   "cell_type": "code",
   "execution_count": 242,
   "id": "06b8bd06",
   "metadata": {},
   "outputs": [],
   "source": [
    "# Division of variable age mother into two categories basing on correlation in scatterplot\n",
    "for index, col in real.iterrows():\n",
    "    if real.loc[index, 'mage'] <= 45:\n",
    "        real.loc[index, 'mage'] = 'Low'\n",
    "        \n",
    "    elif real.loc[index, 'mage'] >45:\n",
    "        real.loc[index, 'mage'] = 'High'\n",
    "        \n",
    "    else:\n",
    "        real.loc[index, 'mage'] = 'Error'"
   ]
  },
  {
   "cell_type": "code",
   "execution_count": 243,
   "id": "46634e78",
   "metadata": {},
   "outputs": [],
   "source": [
    "# Creation of dummies for variable age mother and union to dataset\n",
    "new_age = pd.get_dummies(real['mage'])\n",
    "real = real.join(new_age) "
   ]
  },
  {
   "cell_type": "code",
   "execution_count": 244,
   "id": "9304fd94",
   "metadata": {},
   "outputs": [],
   "source": [
    "# Addition between two most relevant variables in dataset\n",
    "real['Unhealthy'] = real['drink'] + real['cigs'] "
   ]
  },
  {
   "cell_type": "code",
   "execution_count": 245,
   "id": "903b0499",
   "metadata": {},
   "outputs": [],
   "source": [
    "# Multiplication of the effect of previous variable per normalized distribution of most relevant age \n",
    "real['Father'] = real['log_fage'] * real['Unhealthy']"
   ]
  },
  {
   "cell_type": "code",
   "execution_count": 246,
   "id": "432f0acc",
   "metadata": {},
   "outputs": [],
   "source": [
    "# Addition between most relevant age and normalized distribution of most relevant Test\n",
    "real['Father_2'] = real['fage'] + real['log_fmaps']"
   ]
  },
  {
   "cell_type": "code",
   "execution_count": 247,
   "id": "04bf2ddd",
   "metadata": {},
   "outputs": [],
   "source": [
    "# Preparation of lists for split: most relevant age normalized, cigarettes, drink, variables created\n",
    "X = real[['log_fage', \n",
    "          'cigs', 'drink',\n",
    "          'Father', 'Father_2']]\n",
    "\n",
    "y = real[['bwght']]"
   ]
  },
  {
   "cell_type": "code",
   "execution_count": 248,
   "id": "c27e2690",
   "metadata": {},
   "outputs": [],
   "source": [
    "# Call of function to split in training and test\n",
    "X_train, X_test, y_train, y_test = train_test_split(X, y, \n",
    "                                                    test_size=0.25, \n",
    "                                                    random_state=219)"
   ]
  },
  {
   "cell_type": "code",
   "execution_count": 249,
   "id": "553fe84b",
   "metadata": {},
   "outputs": [
    {
     "name": "stdout",
     "output_type": "stream",
     "text": [
      "\n",
      "OLS Train score: 0.69\n",
      "\n",
      "\n",
      "OLS Test score: 0.75\n",
      "\n",
      "OLS Gap:  0.05\n"
     ]
    }
   ],
   "source": [
    "# Condition for OLS regression \n",
    "# Formation of linear regressor\n",
    "linear_regressor = LinearRegression()\n",
    "# Fit of regressor to train model\n",
    "linear_regressor.fit(X_train, y_train)\n",
    "# Adapt regressor for prediction on test\n",
    "linear_pred = linear_regressor.predict(X_test)\n",
    "# F string to print results of regression\n",
    "print(f\"\"\"\n",
    "OLS Train score: {linear_regressor.score(X_train, y_train).round(2)}\n",
    "\"\"\")\n",
    "print(f\"\"\"\n",
    "OLS Test score: {linear_regressor.score(X_test, y_test).round(2)}\n",
    "\"\"\")\n",
    "# Condition for calculation of gap\n",
    "train_2 = linear_regressor.score(X_train, y_train).round(2)\n",
    "test_2 = linear_regressor.score(X_test, y_test).round(2)\n",
    "\n",
    "print('OLS Gap: ', abs(train - test).round(2))"
   ]
  },
  {
   "cell_type": "code",
   "execution_count": 250,
   "id": "f19e7009",
   "metadata": {},
   "outputs": [],
   "source": [
    "# Import of scaler to avoid lack of convergence in Lasso\n",
    "import sklearn.linear_model\n",
    "from sklearn.preprocessing import StandardScaler"
   ]
  },
  {
   "cell_type": "code",
   "execution_count": 251,
   "id": "fc995e3d",
   "metadata": {},
   "outputs": [],
   "source": [
    "# Creation of lists for x and y to insert in Lasso\n",
    "X_1 = real[[ 'log_fage', \n",
    "             'cigs', 'drink',\n",
    "             'Father', 'Father_2']]\n",
    "\n",
    "y_1 = real[['bwght']]"
   ]
  },
  {
   "cell_type": "code",
   "execution_count": 252,
   "id": "cf9f4275",
   "metadata": {},
   "outputs": [],
   "source": [
    "# Split into train and test for creation of model\n",
    "X_train_1, X_test_1, y_train_1, y_test_1 = train_test_split(X_1, y_1,\n",
    "                                                            test_size=0.25,\n",
    "                                                            random_state=219)"
   ]
  },
  {
   "cell_type": "code",
   "execution_count": 253,
   "id": "1e3f91ea",
   "metadata": {},
   "outputs": [],
   "source": [
    "# Formation of scaler factor\n",
    "scaler = StandardScaler()\n",
    "scaler.fit(X_train_1)\n",
    "X_train_1 = scaler.transform(X_train_1)\n",
    "X_test_1 = scaler.transform(X_test_1)"
   ]
  },
  {
   "cell_type": "code",
   "execution_count": 254,
   "id": "ac4c4f09",
   "metadata": {},
   "outputs": [],
   "source": [
    "# Import of pipeline package in case needed for Lasso\n",
    "from sklearn.pipeline import make_pipeline"
   ]
  },
  {
   "cell_type": "code",
   "execution_count": 255,
   "id": "729d8769",
   "metadata": {},
   "outputs": [
    {
     "name": "stdout",
     "output_type": "stream",
     "text": [
      "\n",
      "Lasso Train Score: 0.69\n",
      "\n",
      "\n",
      "Lasso Test Score: 0.74\n",
      "\n",
      "Lasso Gap : 0.05\n"
     ]
    }
   ],
   "source": [
    "# Formation of Lasso model\n",
    "# Regressor for model\n",
    "lasso_regressor = sklearn.linear_model.Lasso()\n",
    "# Fitting regressor on train\n",
    "lasso_fit = lasso_regressor.fit(X_train_1, y_train_1)\n",
    "# Adapting regressor to predict\n",
    "lasso_predictor = lasso_fit.predict(X_test_1)\n",
    "# F string to print results\n",
    "print(f\"\"\"\n",
    "Lasso Train Score: {lasso_regressor.score(X_train_1, y_train_1).round(2)}\n",
    "\"\"\")\n",
    "print(f\"\"\"\n",
    "Lasso Test Score: {lasso_regressor.score(X_test_1, y_test_1).round(2)}\n",
    "\"\"\")\n",
    "# F string and conditions to print the gap\n",
    "train = lasso_regressor.score(X_train_1, y_train_1).round(2)\n",
    "test = lasso_regressor.score(X_test_1, y_test_1).round(2)\n",
    "\n",
    "print('Lasso Gap :', abs(train - test).round(2))\n",
    "gap = abs(train - test).round(2)"
   ]
  },
  {
   "cell_type": "code",
   "execution_count": 256,
   "id": "7b8bfe13",
   "metadata": {},
   "outputs": [],
   "source": [
    "# List of variables for initial Lasso correlation (complete dataset)\n",
    "real_complete = ([ 'mage', 'meduc', 'fage', 'monpre', 'npvis', 'feduc', 'omaps',\n",
    "                   'fmaps', 'cigs', 'drink', 'male', 'mwhte', 'mblck', 'moth',\n",
    "                   'fwhte', 'fblck', 'foth', 'log_mage', 'log_fage', 'log_omaps',\n",
    "                   'log_fmaps', 'Unhealthy', 'Age_tot', 'Age_not', 'Apgar_tot' ])"
   ]
  },
  {
   "cell_type": "code",
   "execution_count": 257,
   "id": "6b9656e2",
   "metadata": {},
   "outputs": [
    {
     "name": "stdout",
     "output_type": "stream",
     "text": [
      "('intercept', array([3350.42]))\n",
      "('log_fage', 300.15)\n",
      "('cigs', 49.32)\n",
      "('drink', -222.29)\n",
      "('Father', -376.59)\n",
      "('Father_2', -374.04)\n"
     ]
    }
   ],
   "source": [
    "# Condition to check relevant correlations for Lasso model \n",
    "#Reference to train model formed for regression\n",
    "lasso_corr = zip(X_1.columns, lasso_fit.coef_.round(2))\n",
    "Lasso_lst = [('intercept', lasso_fit.intercept_.round(decimals = 2))]\n",
    "\n",
    "for values in lasso_corr:\n",
    "    Lasso_lst.append(values)\n",
    "    \n",
    "for corr in Lasso_lst:\n",
    "    print(corr)"
   ]
  },
  {
   "cell_type": "code",
   "execution_count": 258,
   "id": "c1b12d32",
   "metadata": {},
   "outputs": [
    {
     "name": "stdout",
     "output_type": "stream",
     "text": [
      "Training Score: 0.68\n",
      "Testing Score : 0.73\n",
      "ARD Train-Test Gap : 0.05\n"
     ]
    },
    {
     "name": "stderr",
     "output_type": "stream",
     "text": [
      "C:\\Users\\Tommaso\\anaconda3\\lib\\site-packages\\sklearn\\utils\\validation.py:985: DataConversionWarning: A column-vector y was passed when a 1d array was expected. Please change the shape of y to (n_samples, ), for example using ravel().\n",
      "  y = column_or_1d(y, warn=True)\n"
     ]
    }
   ],
   "source": [
    "# Formation of ARD model\n",
    "# Regressor for ARD\n",
    "ard_model = sklearn.linear_model.ARDRegression()\n",
    "\n",
    "\n",
    "# Fitting regressor on training data\n",
    "ard_fit = ard_model.fit(X_train_1, y_train_1)\n",
    "\n",
    "\n",
    "# Adapting regressor to predict on test\n",
    "ard_pred = ard_fit.predict(X_test_1)\n",
    "\n",
    "# f strings to show results of correlation\n",
    "print('Training Score:', ard_model.score(X_train_1, y_train_1).round(2))\n",
    "print('Testing Score :',  ard_model.score(X_test_1, y_test_1).round(2))\n",
    "\n",
    "train_1 = ard_model.score(X_train_1, y_train_1).round(2)\n",
    "test_1 = ard_model.score(X_test_1, y_test_1).round(2)\n",
    "\n",
    "print('ARD Train-Test Gap :', abs(train_1 - test_1).round(2))\n",
    "gap_2 = abs(train_1 - test_1).round(4)"
   ]
  },
  {
   "cell_type": "code",
   "execution_count": 259,
   "id": "cb873294",
   "metadata": {},
   "outputs": [
    {
     "name": "stdout",
     "output_type": "stream",
     "text": [
      "\n",
      "The type of regression considered for the model is Lasso.\n",
      "The model restituted 0.69 as result for the training, \n",
      "while 0.74 was the score of the test.  \n",
      "The gap between the two was equal to 0.05.\n",
      "      \n",
      "      MODEL  |  TRAINING SCORE  |  TEST SCORE  |  GAP\n",
      "      ----------------------------------------------------\n",
      "      Lasso  |     0.69         |      0.74    |    0.05 \n",
      "\n"
     ]
    }
   ],
   "source": [
    "# Dynamic string for model characteristcs\n",
    "print(f\"\"\"\n",
    "The type of regression considered for the model is Lasso.\n",
    "The model restituted {train} as result for the training, \n",
    "while {test} was the score of the test.  \n",
    "The gap between the two was equal to {gap}.\n",
    "      \n",
    "      MODEL  |  TRAINING SCORE  |  TEST SCORE  |  GAP\n",
    "      ----------------------------------------------------\n",
    "      Lasso  |     {train}         |      {test}    |    {gap} \n",
    "\"\"\")\n",
    "# Dictionary to include model characteristcs\n",
    "Final_model = {\n",
    "    \n",
    "    'Model type' : ['Lasso'], # structure entirely retaken from Script 4\n",
    "    \n",
    "    'Training' : [train],\n",
    "    \n",
    "    'Testing' : [test],\n",
    "    \n",
    "    'Train-Test Gap' : [gap],\n",
    "    \n",
    "    'Model size' : [len(Lasso_lst)],\n",
    "    \n",
    "    'Model' : [Lasso_lst]\n",
    "}\n",
    "\n",
    "# Formation of dataframe and export to Excel (in doubt if required or not)\n",
    "Final_model = pd.DataFrame(Final_model)\n",
    "Final_model.to_excel('./Sessions 1-4 (Regression Modeling)/Gagliardi_Tommaso_A1_Regression_Analysis.xlsx')"
   ]
  },
  {
   "cell_type": "code",
   "execution_count": null,
   "id": "fe006d4c",
   "metadata": {},
   "outputs": [],
   "source": []
  }
 ],
 "metadata": {
  "kernelspec": {
   "display_name": "Python 3 (ipykernel)",
   "language": "python",
   "name": "python3"
  },
  "language_info": {
   "codemirror_mode": {
    "name": "ipython",
    "version": 3
   },
   "file_extension": ".py",
   "mimetype": "text/x-python",
   "name": "python",
   "nbconvert_exporter": "python",
   "pygments_lexer": "ipython3",
   "version": "3.8.8"
  },
  "toc": {
   "base_numbering": 1,
   "nav_menu": {},
   "number_sections": true,
   "sideBar": true,
   "skip_h1_title": false,
   "title_cell": "Table of Contents",
   "title_sidebar": "Contents",
   "toc_cell": false,
   "toc_position": {},
   "toc_section_display": true,
   "toc_window_display": false
  },
  "varInspector": {
   "cols": {
    "lenName": 16,
    "lenType": 16,
    "lenVar": 40
   },
   "kernels_config": {
    "python": {
     "delete_cmd_postfix": "",
     "delete_cmd_prefix": "del ",
     "library": "var_list.py",
     "varRefreshCmd": "print(var_dic_list())"
    },
    "r": {
     "delete_cmd_postfix": ") ",
     "delete_cmd_prefix": "rm(",
     "library": "var_list.r",
     "varRefreshCmd": "cat(var_dic_list()) "
    }
   },
   "types_to_exclude": [
    "module",
    "function",
    "builtin_function_or_method",
    "instance",
    "_Feature"
   ],
   "window_display": false
  }
 },
 "nbformat": 4,
 "nbformat_minor": 5
}
